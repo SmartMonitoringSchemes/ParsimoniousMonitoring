{
 "cells": [
  {
   "cell_type": "markdown",
   "metadata": {},
   "source": [
    "## JONS Paper (8.3)"
   ]
  },
  {
   "cell_type": "code",
   "execution_count": null,
   "metadata": {},
   "outputs": [],
   "source": [
    "import Pkg; Pkg.activate(\".\")"
   ]
  },
  {
   "cell_type": "code",
   "execution_count": null,
   "metadata": {},
   "outputs": [],
   "source": [
    "using Revise"
   ]
  },
  {
   "cell_type": "code",
   "execution_count": null,
   "metadata": {},
   "outputs": [],
   "source": [
    "using ArgCheck\n",
    "using CSV\n",
    "using DataFrames\n",
    "using Distributions\n",
    "using HMMBase\n",
    "using ParsimoniousMonitoring\n",
    "using PyPlot\n",
    "using Random"
   ]
  },
  {
   "cell_type": "code",
   "execution_count": null,
   "metadata": {},
   "outputs": [],
   "source": [
    "using POMDPs\n",
    "using POMDPModelTools\n",
    "using POMDPSimulators\n",
    "using DiscreteValueIteration"
   ]
  },
  {
   "cell_type": "code",
   "execution_count": null,
   "metadata": {},
   "outputs": [],
   "source": [
    "include(\"thesis.jl\");"
   ]
  },
  {
   "cell_type": "markdown",
   "metadata": {},
   "source": [
    "### 8.3 Two paths between two anchors on RIPE Atlas\n",
    "\n",
    "0: US\n",
    "1: DE\n",
    "4: HK\n",
    "8: NP (nepal)\n",
    "13: SG (singapore)\n",
    "15: LV (latvia)\n",
    "19: KZ (kazakhstan)\n",
    "24: NZ\n",
    "29: CZ"
   ]
  },
  {
   "cell_type": "code",
   "execution_count": null,
   "metadata": {},
   "outputs": [],
   "source": [
    "plot_rtt(rtt; ax = gca(), kwargs...) = ax.plot(coalesce.(rtt, NaN); kwargs...)\n",
    "read_rtt(source) = CSV.read(source, header = [:rtt], missingstring = \"2.000000000000000000e+03\");"
   ]
  },
  {
   "cell_type": "code",
   "execution_count": null,
   "metadata": {},
   "outputs": [],
   "source": [
    "hk_kz = read_rtt(\"../data/jons_pair/rtt4_19.csv\").rtt\n",
    "hk_lv_kz = read_rtt(\"../data/jons_pair/rtt4_15_19.csv\").rtt;"
   ]
  },
  {
   "cell_type": "code",
   "execution_count": null,
   "metadata": {},
   "outputs": [],
   "source": [
    "fig, ax = subplots(figsize = (10, 3))\n",
    "plot_rtt(hk_kz, ax = ax, label = \"HK → KZ\")\n",
    "plot_rtt(hk_lv_kz, ax = ax, label = \"HK → LV → KZ\")\n",
    "ax.set(xlabel = \"Time\", ylabel = \"RTT (ms)\")\n",
    "ax.legend(loc = \"upper left\");"
   ]
  },
  {
   "cell_type": "markdown",
   "metadata": {},
   "source": [
    "#### Models (Table 7)"
   ]
  },
  {
   "cell_type": "code",
   "execution_count": null,
   "metadata": {},
   "outputs": [],
   "source": [
    "p1 = HMM([0.995 0.005; 0.005 0.995], [Normal(320, sqrt(30)), Normal(370, sqrt(30))])\n",
    "p2 = HMM([0.995 0.005; 0.05 0.95], [Normal(350, sqrt(30)), Normal(440, sqrt(100))]);"
   ]
  },
  {
   "cell_type": "code",
   "execution_count": null,
   "metadata": {},
   "outputs": [],
   "source": [
    "fig, ax = subplots(figsize = (10, 3))\n",
    "\n",
    "Random.seed!(2020)\n",
    "plot_rtt(rand(p1, 5000), ax = ax, label = \"HMM: HK → KZ\")\n",
    "plot_rtt(rand(p2, 5000), ax = ax, label = \"HMM: HK → LV → KZ\")\n",
    "\n",
    "ax.set(xlabel = \"Time\", ylabel = \"RTT (ms)\")\n",
    "ax.legend(loc = \"upper left\");"
   ]
  },
  {
   "cell_type": "markdown",
   "metadata": {},
   "source": [
    "#### MDP"
   ]
  },
  {
   "cell_type": "code",
   "execution_count": null,
   "metadata": {},
   "outputs": [],
   "source": [
    "mdp = MonitoringMDP([p1, p2], [150, 150], [4, 4]);\n",
    "smdp = SparseTabularMDP(mdp);"
   ]
  },
  {
   "cell_type": "code",
   "execution_count": null,
   "metadata": {},
   "outputs": [],
   "source": [
    "solver = SparseValueIterationSolver(max_iterations=5000, belres=1e-6);\n",
    "policy_mdp_90 = solve_sparse(solver, mdp, smdp, 0.9);"
   ]
  },
  {
   "cell_type": "markdown",
   "metadata": {},
   "source": [
    "#### Benchmark"
   ]
  },
  {
   "cell_type": "code",
   "execution_count": null,
   "metadata": {},
   "outputs": [],
   "source": [
    "# TODO: Initial state?"
   ]
  },
  {
   "cell_type": "code",
   "execution_count": null,
   "metadata": {},
   "outputs": [],
   "source": [
    "# Set pdf(::Distribution, ::Missing) = 1.0\n",
    "# (Equivalent of doing a prediction in the HMM filter)\n",
    "ParsimoniousMonitoring.enablemissing(1.0);"
   ]
  },
  {
   "cell_type": "code",
   "execution_count": null,
   "metadata": {},
   "outputs": [],
   "source": [
    "# In the JONS paper, time series are subsampled by a factor 5.  \n",
    "# Not sure why, but we do the same here to keep the same model parameters.\n",
    "data = hcat(hk_kz[1:5:end], hk_lv_kz[1:5:end]);"
   ]
  },
  {
   "cell_type": "code",
   "execution_count": null,
   "metadata": {},
   "outputs": [],
   "source": [
    "logbook = benchmark(mdp, policy_mdp_90, data, (DiscreteBelief(150, 2), DiscreteBelief(150, 2)));"
   ]
  },
  {
   "cell_type": "code",
   "execution_count": null,
   "metadata": {},
   "outputs": [],
   "source": [
    "predictor_p1 = map(logbook) do history\n",
    "    state = history.s[1]\n",
    "    (mdp.models[1].A^(state.timesteps+1))[state.laststate,1]\n",
    "end\n",
    "predictor_p2 = map(logbook) do history\n",
    "    state = history.s[2]\n",
    "    (mdp.models[2].A^(state.timesteps+1))[state.laststate,1]\n",
    "end;"
   ]
  },
  {
   "cell_type": "code",
   "execution_count": null,
   "metadata": {},
   "outputs": [],
   "source": [
    "instants_p1 = findall(map(h -> h.a[1], logbook))\n",
    "instants_p2 = findall(map(h -> h.a[2], logbook));"
   ]
  },
  {
   "cell_type": "code",
   "execution_count": null,
   "metadata": {},
   "outputs": [],
   "source": [
    "fig, axs = subplots(figsize = (10, 9), nrows = 3, sharex = true)\n",
    "axs[1].plot(coalesce.(data[:,1], NaN), label = \"HK → KZ\")\n",
    "axs[1].plot(coalesce.(data[:,2], NaN), label = \"HK → LV → KZ\")\n",
    "axs[1].set(ylabel = \"RTT (ms)\")\n",
    "axs[1].legend(loc = \"upper left\", ncol = 2)\n",
    "\n",
    "axs[2].plot(predictor_p1)\n",
    "axs[2].plot(predictor_p2)\n",
    "axs[2].scatter(instants_p1, ones(length(instants_p1)) * 1.2, s = 5.0, label = \"Mesures HK → KZ\")\n",
    "axs[2].scatter(instants_p2, ones(length(instants_p2)) * 1.1, s = 5.0, label = \"Mesures HK → LV → KZ\")\n",
    "axs[2].set(ylabel = L\"\\gamma_{t-1,t}(i)\", ylim = (0, 1.3))\n",
    "axs[2].legend(loc = \"lower right\")\n",
    "\n",
    "axs[3].plot(map(h -> h.path, logbook), drawstyle = \"steps-mid\")\n",
    "axs[3].set(xlabel = \"Temps\", ylabel = \"C(t)\", ylim = (0.8, 2.2), yticks = [1, 2])\n",
    "\n",
    "save_thesis(\"monitoring_atlas_2p_mdp_aio\", clean = true, hwr = 0.4);"
   ]
  },
  {
   "cell_type": "code",
   "execution_count": null,
   "metadata": {},
   "outputs": [],
   "source": []
  },
  {
   "cell_type": "code",
   "execution_count": null,
   "metadata": {},
   "outputs": [],
   "source": []
  },
  {
   "cell_type": "code",
   "execution_count": null,
   "metadata": {},
   "outputs": [],
   "source": []
  }
 ],
 "metadata": {
  "kernelspec": {
   "display_name": "Julia 1.4.0",
   "language": "julia",
   "name": "julia-1.4"
  },
  "language_info": {
   "file_extension": ".jl",
   "mimetype": "application/julia",
   "name": "julia",
   "version": "1.4.0"
  }
 },
 "nbformat": 4,
 "nbformat_minor": 4
}
