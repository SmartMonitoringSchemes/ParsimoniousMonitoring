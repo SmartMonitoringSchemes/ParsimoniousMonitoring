{
 "cells": [
  {
   "cell_type": "markdown",
   "metadata": {},
   "source": [
    "## NOMS Paper Synthetic (5.1)\n",
    "**TODO: Move evaluation code to a script and merge this notebook with NOMS_Paper.**"
   ]
  },
  {
   "cell_type": "code",
   "execution_count": null,
   "metadata": {},
   "outputs": [],
   "source": [
    "using CSV\n",
    "using DataFrames\n",
    "using Distributions\n",
    "using HMMBase\n",
    "using JSON\n",
    "using ParsimoniousMonitoring\n",
    "using ProgressMeter\n",
    "using PyPlot"
   ]
  },
  {
   "cell_type": "code",
   "execution_count": null,
   "metadata": {},
   "outputs": [],
   "source": [
    "using POMDPs\n",
    "using POMDPModelTools\n",
    "using DiscreteValueIteration"
   ]
  },
  {
   "cell_type": "code",
   "execution_count": null,
   "metadata": {},
   "outputs": [],
   "source": [
    "include(\"thesis.jl\");"
   ]
  },
  {
   "cell_type": "markdown",
   "metadata": {},
   "source": [
    "### Evaluation"
   ]
  },
  {
   "cell_type": "code",
   "execution_count": null,
   "metadata": {},
   "outputs": [],
   "source": [
    "MRE(baseline, candidate) = mean((candidate .- baseline) ./ baseline);"
   ]
  },
  {
   "cell_type": "code",
   "execution_count": null,
   "metadata": {},
   "outputs": [],
   "source": [
    "function synthetic_mdp(β, τmax)\n",
    "    p1 = p2 = HMM([β 1 - β; 1 - β β], [Constant(0.01), Constant(100)])\n",
    "    MonitoringMDP([p1, p2], [τmax, τmax], [25, 25], 0.99)\n",
    "end;"
   ]
  },
  {
   "cell_type": "code",
   "execution_count": null,
   "metadata": {},
   "outputs": [],
   "source": [
    "function eval_policies(mdp, policies)\n",
    "    results = Dict{String,Float64}()\n",
    "\n",
    "    # Baseline VI policy\n",
    "    solver = SparseValueIterationSolver(max_iterations = 5000)\n",
    "\n",
    "    timing = @timed baseline_policy = solve(solver, mdp)\n",
    "    baseline = evaluate(mdp, baseline_policy).(states(mdp))\n",
    "    println(\"Baseline: $(timing[2])s\")\n",
    "\n",
    "    # Candidate policies\n",
    "    for (name, policy_fn) in policies\n",
    "        policy = CachedPolicy(mdp, policy_fn(mdp))\n",
    "        timing = @timed vf = evaluate(mdp, policy).(states(mdp))\n",
    "        println(\"$(name): $(timing[2])s\")\n",
    "        results[name] = MRE(baseline, vf)\n",
    "    end\n",
    "\n",
    "    results\n",
    "end;"
   ]
  },
  {
   "cell_type": "markdown",
   "metadata": {},
   "source": [
    "### Main"
   ]
  },
  {
   "cell_type": "code",
   "execution_count": null,
   "metadata": {},
   "outputs": [],
   "source": [
    "policies = Dict{String,Function}(\n",
    "    # \"Greedy\" => mdp -> GreedyPolicy(mdp),\n",
    "    \"Greedy\" => mdp -> AnalyticalGreedyPolicy(mdp),\n",
    "    \"RH-2\" => mdp -> RecedingHorizonPolicy(mdp, 2, shared_cache = true),\n",
    "    \"RH-3\" => mdp -> RecedingHorizonPolicy(mdp, 3, shared_cache = true),\n",
    "    \"RH-4\" => mdp -> RecedingHorizonPolicy(mdp, 4, shared_cache = true),\n",
    "    \"Heuristic\" => mdp -> HeuristicPolicy(mdp, SparseValueIterationSolver(max_iterations = 100, include_Q = false))\n",
    ");"
   ]
  },
  {
   "cell_type": "code",
   "execution_count": null,
   "metadata": {},
   "outputs": [],
   "source": [
    "# βs = vcat(0.01:0.01:0.05, 0.1:0.1:0.9, 0.95:0.01:0.99)\n",
    "# results = Vector{Dict}(undef, size(βs))\n",
    "\n",
    "# for i in eachindex(βs)\n",
    "#     mdp = synthetic_mdp(βs[i], 150)\n",
    "#     results[i] = eval_policies(mdp, policies)\n",
    "# end"
   ]
  },
  {
   "cell_type": "code",
   "execution_count": null,
   "metadata": {},
   "outputs": [],
   "source": [
    "# df = DataFrame([Float64[], String[], Float64[]], [:β, :policy, :mre])\n",
    "# for (β, result) in zip(βs, results)\n",
    "#     for (policy, mre) in result\n",
    "#         push!(df, (β, policy, mre))\n",
    "#     end\n",
    "# end\n",
    "# df = unstack(df, :policy, :mre)\n",
    "# CSV.write(\"../results/noms_synthetic.csv\", df);"
   ]
  },
  {
   "cell_type": "code",
   "execution_count": null,
   "metadata": {},
   "outputs": [],
   "source": [
    "df = CSV.read(\"../results/noms_synthetic.csv\")\n",
    "first(df, 6)"
   ]
  },
  {
   "cell_type": "code",
   "execution_count": null,
   "metadata": {},
   "outputs": [],
   "source": [
    "fig, ax = subplots(figsize = (7,5))\n",
    "for (policy, label) in Dict(\"Greedy\" => \"Glouton\", \"Heuristic\" => \"Heuristique\", \"RH-2\" => \"RH-2\", \"RH-3\" => \"RH-3\", \"RH-4\" => \"RH-4\")\n",
    "    ax.plot(df[:,:β], df[:,Symbol(policy)] * 100, label = label)\n",
    "end\n",
    "ax.grid()\n",
    "ax.legend(loc = \"upper left\", ncol = 5)\n",
    "ax.set(xticks = 0:0.1:1, yticks = 0:10:70, xlabel = L\"$\\beta$\", ylabel = \"MRE (%)\")\n",
    "save_thesis(\"heuristics_mre\", clean = true, hwr = 0.7)"
   ]
  },
  {
   "cell_type": "code",
   "execution_count": null,
   "metadata": {},
   "outputs": [],
   "source": []
  }
 ],
 "metadata": {
  "kernelspec": {
   "display_name": "Julia 1.4.0",
   "language": "julia",
   "name": "julia-1.4"
  },
  "language_info": {
   "file_extension": ".jl",
   "mimetype": "application/julia",
   "name": "julia",
   "version": "1.4.0"
  }
 },
 "nbformat": 4,
 "nbformat_minor": 4
}
