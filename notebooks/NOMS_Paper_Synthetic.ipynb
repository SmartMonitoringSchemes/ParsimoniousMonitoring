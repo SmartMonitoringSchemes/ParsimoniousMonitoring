{
 "cells": [
  {
   "cell_type": "markdown",
   "metadata": {},
   "source": [
    "## NOMS Paper (5.1)"
   ]
  },
  {
   "cell_type": "code",
   "execution_count": 1,
   "metadata": {},
   "outputs": [
    {
     "name": "stderr",
     "output_type": "stream",
     "text": [
      "\u001b[32m\u001b[1m Activating\u001b[22m\u001b[39m environment at `~/thesis-sandbox/ParsimoniousMonitoring/notebooks/Project.toml`\n"
     ]
    }
   ],
   "source": [
    "import Pkg; Pkg.activate(\".\")"
   ]
  },
  {
   "cell_type": "code",
   "execution_count": 2,
   "metadata": {},
   "outputs": [],
   "source": [
    "using Distributions\n",
    "using HMMBase\n",
    "using JSON\n",
    "using ParsimoniousMonitoring\n",
    "using ProgressMeter"
   ]
  },
  {
   "cell_type": "code",
   "execution_count": 3,
   "metadata": {},
   "outputs": [],
   "source": [
    "using POMDPs\n",
    "using POMDPModelTools\n",
    "using DiscreteValueIteration"
   ]
  },
  {
   "cell_type": "code",
   "execution_count": 4,
   "metadata": {},
   "outputs": [],
   "source": [
    "MRE(baseline, candidate) = mean((candidate .- baseline) ./ baseline);"
   ]
  },
  {
   "cell_type": "code",
   "execution_count": 5,
   "metadata": {},
   "outputs": [],
   "source": [
    "function synthetic_mdp(β, τmax)\n",
    "    p1 = p2 = HMM([β 1 - β; 1 - β β], [Constant(0.01), Constant(100)])\n",
    "    MonitoringMDP([p1, p2], [τmax, τmax], [25, 25], 0.99)\n",
    "end;"
   ]
  },
  {
   "cell_type": "code",
   "execution_count": 6,
   "metadata": {},
   "outputs": [],
   "source": [
    "function eval_policies(mdp, policies)\n",
    "    results = Dict{String,Float64}()\n",
    "\n",
    "    # Baseline VI policy\n",
    "    solver = SparseValueIterationSolver(max_iterations = 5000, belres = 1e-6)\n",
    "    smdp = SparseTabularMDP(mdp)\n",
    "\n",
    "    baseline_policy = solve_sparse(solver, mdp, smdp)\n",
    "    timing = @timed baseline = evaluate(mdp, baseline_policy).(states(mdp))\n",
    "    println(\"Baseline: $(timing[2])s\")\n",
    "\n",
    "    # Candidate policies\n",
    "    for (name, policy_fn) in policies\n",
    "        policy = policy_fn(mdp)\n",
    "        timing = @timed vf = evaluate(mdp, policy).(states(mdp))\n",
    "        println(\"$(name): $(timing[2])s\")\n",
    "        results[name] = MRE(baseline, vf)\n",
    "    end\n",
    "\n",
    "    results\n",
    "end;"
   ]
  },
  {
   "cell_type": "markdown",
   "metadata": {},
   "source": [
    "### Main"
   ]
  },
  {
   "cell_type": "code",
   "execution_count": 13,
   "metadata": {},
   "outputs": [],
   "source": [
    "policies = Dict{String,Function}(\n",
    "    \"Greedy\" => mdp -> GreedyPolicy(mdp),\n",
    "    \"RH-2\" => mdp -> RecedingHorizonPolicy(mdp, 2),\n",
    "    \"RH-3\" => mdp -> RecedingHorizonPolicy(mdp, 3),\n",
    "    # \"RH-4\" => mdp -> RecedingHorizonPolicy(mdp, 4),\n",
    ");"
   ]
  },
  {
   "cell_type": "code",
   "execution_count": 14,
   "metadata": {},
   "outputs": [],
   "source": [
    "βs = vcat(0.01:0.01:0.05, 0.1:0.1:0.9, 0.95:0.01:0.99);\n",
    "results = Vector{Dict}(undef, size(βs));"
   ]
  },
  {
   "cell_type": "code",
   "execution_count": 16,
   "metadata": {},
   "outputs": [
    {
     "name": "stdout",
     "output_type": "stream",
     "text": [
      "Baseline: 0.930965837s\n",
      "Baseline: 1.120300826s\n",
      "Baseline: 1.126520803s\n",
      "Baseline: 2.743909355s\n",
      "Baseline: 3.049894853s\n",
      "Baseline: 3.242578989s\n",
      "Baseline: 3.370767557s\n",
      "Baseline: 3.373283181s\n",
      "Greedy: 18.251251713s\n",
      "Greedy: 18.091533499s\n",
      "Greedy: 18.921235214s\n",
      "Greedy: 23.739339641s\n",
      "Greedy: 23.774789583s\n",
      "Greedy: 23.982895254s\n",
      "Greedy: 23.945142225s\n",
      "Greedy: 24.586533794s\n",
      "RH-2: 146.232203737s\n",
      "RH-2: 149.493289629s\n",
      "RH-2: 150.103817107s\n",
      "RH-2: 176.494557037s\n",
      "RH-2: 176.942993401s\n",
      "RH-2: 178.796621664s\n",
      "RH-2: 180.071152424s\n",
      "RH-2: 184.212603232s\n",
      "RH-3: 500.19712602s\n",
      "RH-3: 511.36354961s\n",
      "RH-3: 511.093181759s\n",
      "Baseline: 2.760275237s\n",
      "Greedy: 11.778632832s\n",
      "Baseline: 2.560750996s\n",
      "Baseline: 2.679005295s\n",
      "Greedy: 18.386913431s\n",
      "Greedy: 18.283494214s\n",
      "RH-3: 601.344229748s\n",
      "RH-3: 602.408970529s\n",
      "RH-3: 607.179400669s\n",
      "RH-3: 611.095200954s\n",
      "RH-3: 616.316825584s\n",
      "Baseline: 1.7170648s\n",
      "Baseline: 2.347500293s\n",
      "RH-2: 133.418183535s\n",
      "Baseline: 3.077304218s\n",
      "Baseline: 3.406083001s\n",
      "Greedy: 17.119973017s\n",
      "Greedy: 17.83256699s\n",
      "RH-2: 131.12264777s\n",
      "Baseline: 3.420298826s\n",
      "RH-2: 132.845655907s\n",
      "Greedy: 20.199429702s\n",
      "Greedy: 19.870802786s\n",
      "Greedy: 23.429905626s\n",
      "RH-2: 164.851868697s\n",
      "RH-2: 162.659375158s\n",
      "RH-2: 181.313157014s\n",
      "RH-2: 182.303477538s\n",
      "RH-2: 186.512697388s\n",
      "RH-3: 498.193697789s\n",
      "RH-3: 568.301505849s\n",
      "RH-3: 580.446446627s\n",
      "Baseline: 1.95929856s\n",
      "Greedy: 13.343394078s\n",
      "RH-3: 460.241824358s\n",
      "RH-3: 456.011470125s\n",
      "Baseline: 1.43849449s\n",
      "Greedy: 9.219223814s\n",
      "RH-3: 478.29898578s\n",
      "RH-3: 494.164477368s\n",
      "RH-2: 73.398911475s\n",
      "RH-3: 473.188203612s\n",
      "Baseline: 0.899932115s\n",
      "Greedy: 5.42160258s\n",
      "RH-2: 50.634670915s\n",
      "RH-2: 43.527579053s\n",
      "RH-3: 135.551364337s\n",
      "RH-3: 137.160611206s\n",
      "RH-3: 128.627711285s\n",
      "1745.374559 seconds (25.35 G allocations: 1.498 TiB, 21.42% gc time)\n"
     ]
    }
   ],
   "source": [
    "@time Threads.@threads for i in eachindex(βs)\n",
    "    mdp = synthetic_mdp(βs[i], 100)\n",
    "    results[i] = eval_policies(mdp, policies)\n",
    "end"
   ]
  },
  {
   "cell_type": "code",
   "execution_count": null,
   "metadata": {},
   "outputs": [],
   "source": []
  },
  {
   "cell_type": "code",
   "execution_count": null,
   "metadata": {},
   "outputs": [],
   "source": []
  },
  {
   "cell_type": "code",
   "execution_count": null,
   "metadata": {},
   "outputs": [],
   "source": []
  }
 ],
 "metadata": {
  "kernelspec": {
   "display_name": "Julia 1.4.1",
   "language": "julia",
   "name": "julia-1.4"
  },
  "language_info": {
   "file_extension": ".jl",
   "mimetype": "application/julia",
   "name": "julia",
   "version": "1.4.1"
  }
 },
 "nbformat": 4,
 "nbformat_minor": 4
}
