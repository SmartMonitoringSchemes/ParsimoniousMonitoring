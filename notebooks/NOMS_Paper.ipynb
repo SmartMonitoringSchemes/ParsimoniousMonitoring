{
 "cells": [
  {
   "cell_type": "markdown",
   "metadata": {},
   "source": [
    "## NOMS Paper"
   ]
  },
  {
   "cell_type": "code",
   "execution_count": null,
   "metadata": {},
   "outputs": [],
   "source": [
    "using DataFrames\n",
    "using JSON\n",
    "using ParsimoniousMonitoring: LogEntry\n",
    "using Statistics"
   ]
  },
  {
   "cell_type": "code",
   "execution_count": null,
   "metadata": {},
   "outputs": [],
   "source": [
    "parse_log(d::Dict) = LogEntry(map(x -> d[string(x)], fieldnames(LogEntry))...)\n",
    "\n",
    "function load_results(filename)\n",
    "    obj = JSON.parsefile(filename)\n",
    "    Dict(k => map(parse_log, v) for (k, v) in obj)\n",
    "end"
   ]
  },
  {
   "cell_type": "markdown",
   "metadata": {},
   "source": [
    "### 5.2 Validation against real latency data"
   ]
  },
  {
   "cell_type": "code",
   "execution_count": null,
   "metadata": {},
   "outputs": [],
   "source": [
    "scenarios = [\n",
    "    \"../results/Haifa_Santiago.json\",\n",
    "    \"../results/Paris_Santiago.json\",\n",
    "    \"../results/Paris_Tokyo.json\",\n",
    "    \"../results/Singapore_HongKong.json\"\n",
    "]\n",
    "\n",
    "function min_delay_gap(log)\n",
    "    delay = sum(skipmissing(map(x -> x.delay, log)))\n",
    "    delay_opt = sum(skipmissing(map(x -> x.delay_opt, log)))\n",
    "    (delay - delay_opt) / delay_opt\n",
    "end\n",
    "\n",
    "metrics = Dict(\n",
    "    \"processing_time\" => log -> mean(x -> x.time, log),\n",
    "    \"avg_measures\" => log -> mean(x -> sum(x.a), log),\n",
    "    \"min_delay_reached\" => log -> mean(x -> x.delay == x.delay_opt, log),\n",
    "#     \"min_delay_gap\" => log -> min_delay_gap(log)\n",
    ");"
   ]
  },
  {
   "cell_type": "code",
   "execution_count": null,
   "metadata": {},
   "outputs": [],
   "source": [
    "df = DataFrame([String[], String[], String[], Real[]], [:scenario, :policy, :metric, :value])\n",
    "for scenario in scenarios\n",
    "    name = splitext(basename(scenario))[1]\n",
    "    results = load_results(scenario)    \n",
    "    for (policy, log) in results, (metric, f) in metrics\n",
    "        push!(df, (name, policy, metric, f(log)))\n",
    "    end\n",
    "end\n",
    "df = unstack(df, :metric, :value);"
   ]
  },
  {
   "cell_type": "code",
   "execution_count": null,
   "metadata": {},
   "outputs": [],
   "source": [
    "df[df.policy .== \"Heuristic\",:]"
   ]
  },
  {
   "cell_type": "code",
   "execution_count": null,
   "metadata": {},
   "outputs": [],
   "source": []
  }
 ],
 "metadata": {
  "kernelspec": {
   "display_name": "Julia 1.4.0",
   "language": "julia",
   "name": "julia-1.4"
  },
  "language_info": {
   "file_extension": ".jl",
   "mimetype": "application/julia",
   "name": "julia",
   "version": "1.4.0"
  }
 },
 "nbformat": 4,
 "nbformat_minor": 4
}
