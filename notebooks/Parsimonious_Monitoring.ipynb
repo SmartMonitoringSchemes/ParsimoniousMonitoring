{
 "cells": [
  {
   "cell_type": "code",
   "execution_count": null,
   "metadata": {},
   "outputs": [],
   "source": [
    "import Pkg; Pkg.activate(\".\")"
   ]
  },
  {
   "cell_type": "code",
   "execution_count": null,
   "metadata": {},
   "outputs": [],
   "source": [
    "using ArgCheck\n",
    "using Distributions\n",
    "using HMMBase\n",
    "using LinearAlgebra\n",
    "using Random\n",
    "using Test"
   ]
  },
  {
   "cell_type": "code",
   "execution_count": null,
   "metadata": {},
   "outputs": [],
   "source": [
    "import POMDPs: actionindex, actions, dimensions, discount, reward, stateindex, states, transition\n",
    "import POMDPs: MDP\n",
    "import POMDPModelTools: SparseCat"
   ]
  },
  {
   "cell_type": "code",
   "execution_count": null,
   "metadata": {},
   "outputs": [],
   "source": [
    "include(\"src/spaces.jl\")\n",
    "include(\"src/problem.jl\")\n",
    "# TODO: Tests"
   ]
  },
  {
   "cell_type": "code",
   "execution_count": null,
   "metadata": {},
   "outputs": [],
   "source": []
  },
  {
   "cell_type": "markdown",
   "metadata": {},
   "source": [
    "## Simulation"
   ]
  },
  {
   "cell_type": "code",
   "execution_count": null,
   "metadata": {},
   "outputs": [],
   "source": [
    "using Distributions\n",
    "using DiscreteValueIteration\n",
    "using POMDPs\n",
    "using POMDPModelTools\n",
    "using POMDPSimulators\n",
    "using PyPlot"
   ]
  },
  {
   "cell_type": "markdown",
   "metadata": {},
   "source": [
    "### JONS paper\n",
    "#### 8.1 A first simple example"
   ]
  },
  {
   "cell_type": "code",
   "execution_count": null,
   "metadata": {},
   "outputs": [],
   "source": [
    "# TODO: Use DiscreteNonParametric instead of 0-variance Normal distn.\n",
    "p1 = HMM(ones(1,1), [Normal(8,0)])\n",
    "p2 = HMM([0.99 0.01; 0.02 0.98], [Normal(5,0), Normal(10,0)])\n",
    "mdp = MonitoringMDP([p1,p2], [300, 300], [0.65, 0.65], 0.01);"
   ]
  },
  {
   "cell_type": "code",
   "execution_count": null,
   "metadata": {},
   "outputs": [],
   "source": [
    "@time smdp = SparseTabularMDP(mdp);"
   ]
  },
  {
   "cell_type": "code",
   "execution_count": null,
   "metadata": {},
   "outputs": [],
   "source": []
  },
  {
   "cell_type": "code",
   "execution_count": null,
   "metadata": {},
   "outputs": [],
   "source": [
    "smdp = SparseTabularMDP(mdp);"
   ]
  },
  {
   "cell_type": "code",
   "execution_count": null,
   "metadata": {},
   "outputs": [],
   "source": [
    "smdp = SparseTabularMDP(smdp, discount = 0.99);"
   ]
  },
  {
   "cell_type": "code",
   "execution_count": null,
   "metadata": {
    "collapsed": true,
    "jupyter": {
     "outputs_hidden": true
    }
   },
   "outputs": [],
   "source": [
    "solver = SparseValueIterationSolver(max_iterations=1000, belres=1e-6, verbose=true)\n",
    "res = solve(solver, smdp);"
   ]
  },
  {
   "cell_type": "code",
   "execution_count": null,
   "metadata": {},
   "outputs": [],
   "source": [
    "function belief_1d(mdp::MonitoringMDP, p::Int, k::Int)\n",
    "    states_ = states(mdp)\n",
    "    belief = Vector{Float64}(undef, length(states_))\n",
    "    model = mdp.models[p]\n",
    "    for (i, (state)) in enumerate(states_)\n",
    "        timesteps, laststate = getstate(state)[p]\n",
    "        belief[i] = (model.A^timesteps)[laststate,k]\n",
    "    end\n",
    "    belief\n",
    "end"
   ]
  },
  {
   "cell_type": "code",
   "execution_count": null,
   "metadata": {},
   "outputs": [],
   "source": [
    "# TODO: Plot value function"
   ]
  },
  {
   "cell_type": "code",
   "execution_count": null,
   "metadata": {},
   "outputs": [],
   "source": [
    "belief = belief_1d(mdp, 2, 1)\n",
    "fig, ax = subplots(figsize = (3, 1.0))\n",
    "ax.scatter(belief, ones(length(belief)), c = res.policy, s = 1.0)"
   ]
  },
  {
   "cell_type": "code",
   "execution_count": null,
   "metadata": {},
   "outputs": [],
   "source": [
    "struct ConstantPolicy <: Policy\n",
    "    action::CartesianIndex\n",
    "end\n",
    "POMDPs.action(policy::ConstantPolicy, _) = policy.action"
   ]
  },
  {
   "cell_type": "code",
   "execution_count": null,
   "metadata": {},
   "outputs": [],
   "source": [
    "struct MDPPolicy <: Policy\n",
    "    mdp::MonitoringMDP\n",
    "    policy::Vector{Int}\n",
    "end\n",
    "\n",
    "function MDPPolicy(mdp::MonitoringMDP, policy::ValueIterationPolicy)\n",
    "    MDPPolicy(mdp, policy.policy)\n",
    "end\n",
    "\n",
    "function POMDPs.action(policy::MDPPolicy, s)\n",
    "    state = stateindex(mdp, s)\n",
    "    action = policy.policy[state]\n",
    "    actions(mdp)[action]\n",
    "end"
   ]
  },
  {
   "cell_type": "code",
   "execution_count": null,
   "metadata": {},
   "outputs": [],
   "source": [
    "# pol = ConstantPolicy(CartesianIndex(1,1))\n",
    "# pol = MDPPolicy(mdp, res);"
   ]
  },
  {
   "cell_type": "code",
   "execution_count": null,
   "metadata": {},
   "outputs": [],
   "source": [
    "# rs = RolloutSimulator(max_steps=10)\n",
    "# r = simulate(rs, mdp, pol, rand(mdp.states))"
   ]
  },
  {
   "cell_type": "code",
   "execution_count": null,
   "metadata": {},
   "outputs": [],
   "source": [
    "s0 = rand(mdp.states);\n",
    "# s0 = CartesianIndex(0, 1, 0, 1);"
   ]
  },
  {
   "cell_type": "code",
   "execution_count": null,
   "metadata": {},
   "outputs": [],
   "source": [
    "hr = HistoryRecorder(max_steps=3000)\n",
    "h_always = simulate(hr, mdp, ConstantPolicy(CartesianIndex(0,1)), s0);\n",
    "h_never = simulate(hr, mdp, ConstantPolicy(CartesianIndex(0,0)), s0);\n",
    "h_mdp = simulate(hr, mdp, MDPPolicy(mdp, res), s0);"
   ]
  },
  {
   "cell_type": "code",
   "execution_count": null,
   "metadata": {},
   "outputs": [],
   "source": [
    "sum(map(x -> x[:a] == CartesianIndex(0,1), h_mdp.hist))"
   ]
  },
  {
   "cell_type": "code",
   "execution_count": null,
   "metadata": {},
   "outputs": [],
   "source": [
    "mean(map(x -> x[:r], h_mdp.hist))"
   ]
  },
  {
   "cell_type": "code",
   "execution_count": null,
   "metadata": {},
   "outputs": [],
   "source": [
    "plot(cumsum(map(x -> x[:r], h_always.hist)))\n",
    "plot(cumsum(map(x -> x[:r], h_never.hist)))\n",
    "plot(cumsum(map(x -> x[:r], h_mdp.hist)))"
   ]
  },
  {
   "cell_type": "code",
   "execution_count": null,
   "metadata": {},
   "outputs": [],
   "source": []
  },
  {
   "cell_type": "code",
   "execution_count": null,
   "metadata": {},
   "outputs": [],
   "source": []
  },
  {
   "cell_type": "code",
   "execution_count": null,
   "metadata": {},
   "outputs": [],
   "source": []
  },
  {
   "cell_type": "code",
   "execution_count": null,
   "metadata": {},
   "outputs": [],
   "source": []
  },
  {
   "cell_type": "markdown",
   "metadata": {},
   "source": [
    "https://github.com/JuliaPOMDP/POMDPExamples.jl/blob/master/notebooks/Defining-a-Heuristic-Policy.ipynb"
   ]
  },
  {
   "cell_type": "code",
   "execution_count": null,
   "metadata": {},
   "outputs": [],
   "source": []
  },
  {
   "cell_type": "code",
   "execution_count": null,
   "metadata": {},
   "outputs": [],
   "source": [
    "x, y = [], []\n",
    "for (i, action) in enumerate(res.policy)\n",
    "    action = getaction(actions(mdp)[action])\n",
    "    timesteps, laststate = getstate(states(mdp)[i])[2]\n",
    "    push!(x, (p2.A^timesteps)[laststate,1])\n",
    "    push!(y, action[2])\n",
    "end\n",
    "scatter(x, y)"
   ]
  },
  {
   "cell_type": "code",
   "execution_count": null,
   "metadata": {},
   "outputs": [],
   "source": []
  },
  {
   "cell_type": "code",
   "execution_count": null,
   "metadata": {},
   "outputs": [],
   "source": [
    "x, y = [], []\n",
    "for (i, action) in enumerate(res.policy)\n",
    "    action = getaction(actions(mdp)[action])\n",
    "    timesteps, laststate = getstate(states(mdp)[i])[2]\n",
    "    push!(x, (p2.A^timesteps)[laststate,1])\n",
    "    push!(y, action[2])\n",
    "end\n",
    "scatter(x, y)"
   ]
  },
  {
   "cell_type": "markdown",
   "metadata": {},
   "source": [
    "#### 8.2 Two Markov chains of two states each"
   ]
  },
  {
   "cell_type": "code",
   "execution_count": null,
   "metadata": {},
   "outputs": [],
   "source": [
    "# TODO: Use DiscreteNonParametric instead of 0-variance Normal distn.\n",
    "p1 = HMM([0.7 0.3; 0.3 0.7], [Normal(0.5, 0), Normal(2.0, 0)])\n",
    "p2 = HMM([0.9 0.1; 0.1 0.9], [Normal(1.0,0), Normal(3.0,0)])\n",
    "mdp = MonitoringMDP([100, 100], [p1, p2], [0.05, 0.15], 0.01);"
   ]
  },
  {
   "cell_type": "code",
   "execution_count": null,
   "metadata": {},
   "outputs": [],
   "source": [
    "smdp = SparseTabularMDP(mdp);"
   ]
  },
  {
   "cell_type": "code",
   "execution_count": null,
   "metadata": {},
   "outputs": [],
   "source": [
    "solver = SparseValueIterationSolver(max_iterations=100, belres=1e-6, verbose=true)\n",
    "res = solve(solver, smdp);"
   ]
  },
  {
   "cell_type": "code",
   "execution_count": null,
   "metadata": {},
   "outputs": [],
   "source": [
    "x, y, z = [], [], []\n",
    "for (i, action) in enumerate(res.policy)\n",
    "    state = getstate(states(mdp)[i])\n",
    "    timesteps, laststate = state[1]\n",
    "    push!(x, (p1.A^(timesteps+1))[laststate,1])\n",
    "    timesteps, laststate = state[2]\n",
    "    push!(y, (p2.A^(timesteps+1))[laststate,1])\n",
    "    push!(z, action)\n",
    "end\n",
    "# scatter(x, y)"
   ]
  },
  {
   "cell_type": "code",
   "execution_count": null,
   "metadata": {},
   "outputs": [],
   "source": [
    "scatter(x, y, c=z)\n",
    "xlim(0,1)\n",
    "ylim(0,1)"
   ]
  },
  {
   "cell_type": "code",
   "execution_count": null,
   "metadata": {},
   "outputs": [],
   "source": []
  },
  {
   "cell_type": "markdown",
   "metadata": {},
   "source": [
    "TODO: Implement https://juliapomdp.github.io/POMDPModelTools.jl/latest/visualization.html"
   ]
  },
  {
   "cell_type": "code",
   "execution_count": null,
   "metadata": {},
   "outputs": [],
   "source": []
  },
  {
   "cell_type": "markdown",
   "metadata": {},
   "source": [
    "## Simulation"
   ]
  },
  {
   "cell_type": "markdown",
   "metadata": {},
   "source": [
    "https://juliapomdp.github.io/POMDPSimulators.jl/stable/parallel/#Parallel-1"
   ]
  },
  {
   "cell_type": "code",
   "execution_count": null,
   "metadata": {},
   "outputs": [],
   "source": []
  },
  {
   "cell_type": "code",
   "execution_count": null,
   "metadata": {},
   "outputs": [],
   "source": []
  }
 ],
 "metadata": {
  "kernelspec": {
   "display_name": "Julia 1.4.0",
   "language": "julia",
   "name": "julia-1.4"
  },
  "language_info": {
   "file_extension": ".jl",
   "mimetype": "application/julia",
   "name": "julia",
   "version": "1.4.0"
  }
 },
 "nbformat": 4,
 "nbformat_minor": 4
}
