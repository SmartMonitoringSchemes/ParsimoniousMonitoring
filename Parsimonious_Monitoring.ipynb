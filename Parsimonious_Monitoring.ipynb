{
 "cells": [
  {
   "cell_type": "code",
   "execution_count": null,
   "metadata": {},
   "outputs": [],
   "source": []
  },
  {
   "cell_type": "code",
   "execution_count": null,
   "metadata": {},
   "outputs": [],
   "source": []
  },
  {
   "cell_type": "code",
   "execution_count": null,
   "metadata": {},
   "outputs": [],
   "source": [
    "import Pkg; Pkg.activate(\"..\")"
   ]
  },
  {
   "cell_type": "code",
   "execution_count": null,
   "metadata": {},
   "outputs": [],
   "source": [
    "using ArgCheck\n",
    "using Distributions\n",
    "using HMMBase\n",
    "using IterTools\n",
    "using LinearAlgebra\n",
    "using Random\n",
    "using Test"
   ]
  },
  {
   "cell_type": "code",
   "execution_count": null,
   "metadata": {},
   "outputs": [],
   "source": [
    "import Base: IdentityUnitRange\n",
    "import POMDPs: actionindex, actions, dimensions, discount, reward, stateindex, states, transition\n",
    "import POMDPs: MDP\n",
    "import POMDPModelTools: SparseCat"
   ]
  },
  {
   "cell_type": "code",
   "execution_count": null,
   "metadata": {},
   "outputs": [],
   "source": [
    "vproduct(args...) = ivec(Iterators.product(args...))\n",
    "splatmap(f, args...) = map(x -> f(x...), args...);"
   ]
  },
  {
   "cell_type": "markdown",
   "metadata": {},
   "source": [
    "https://github.com/JuliaPOMDP/POMDPExamples.jl/blob/master/notebooks/Defining-a-Heuristic-Policy.ipynb"
   ]
  },
  {
   "cell_type": "markdown",
   "metadata": {},
   "source": [
    "## Spaces\n",
    "[Spaces and Distributions](https://juliapomdp.github.io/POMDPs.jl/stable/interfaces/#space-interface-1)\n",
    "\n",
    "https://discourse.julialang.org/t/linearindices-for-non-1-based-indices/26906/2"
   ]
  },
  {
   "cell_type": "markdown",
   "metadata": {},
   "source": [
    "Est-ce qu'on mesure quand on atteind τmax ?"
   ]
  },
  {
   "cell_type": "code",
   "execution_count": null,
   "metadata": {},
   "outputs": [],
   "source": [
    "# https://discourse.julialang.org/t/efficient-tuple-concatenation/5398/9\n",
    "@inline tuplejoin(x) = x\n",
    "@inline tuplejoin(x, y) = (x..., y...)\n",
    "@inline tuplejoin(x, y, z...) = (x..., tuplejoin(y, z...)...);"
   ]
  },
  {
   "cell_type": "code",
   "execution_count": null,
   "metadata": {},
   "outputs": [],
   "source": [
    "Action{P} = CartesianIndex{P}\n",
    "State{P} = CartesianIndex{P}\n",
    "ActionSpace{P} = CartesianIndices{P,NTuple{P,IdentityUnitRange{UnitRange{Int}}}}\n",
    "StateSpace{P} = CartesianIndices{P,NTuple{P,IdentityUnitRange{UnitRange{Int}}}};"
   ]
  },
  {
   "cell_type": "code",
   "execution_count": null,
   "metadata": {},
   "outputs": [],
   "source": [
    "function action_space(npaths)\n",
    "    @argcheck npaths >= 1\n",
    "    range = Tuple(0:1 for _ in 1:npaths)\n",
    "    CartesianIndices(IdentityUnitRange.(range))\n",
    "end\n",
    "\n",
    "function state_space(τmax, nstates)\n",
    "    @argcheck length(τmax) == length(nstates)\n",
    "    @argcheck all(τmax .>= 0) && all(nstates .>= 1)\n",
    "    range = tuplejoin([(0:τ, 1:n) for (τ, n) in zip(τmax, nstates)]...)\n",
    "    CartesianIndices(IdentityUnitRange.(range))\n",
    "end"
   ]
  },
  {
   "cell_type": "code",
   "execution_count": null,
   "metadata": {},
   "outputs": [],
   "source": [
    "getaction(a::Action) = Tuple(a) .== 1\n",
    "getstate(s::State) = collect(Iterators.partition(Tuple(s), 2))"
   ]
  },
  {
   "cell_type": "markdown",
   "metadata": {},
   "source": [
    "## MDP"
   ]
  },
  {
   "cell_type": "code",
   "execution_count": null,
   "metadata": {},
   "outputs": [],
   "source": [
    "struct MonitoringMDP{PP,P} <: MDP{State{PP},Action{P}}\n",
    "    τmax::Vector{Int}\n",
    "    models::Vector{HMM}\n",
    "    costs::Vector{Float64}\n",
    "    discount::Float64\n",
    "    # Internal fields\n",
    "    actions::ActionSpace{P} # Action space\n",
    "    states::StateSpace{PP} # State space\n",
    "end\n",
    "\n",
    "function MonitoringMDP(τmax, models, costs, discount)\n",
    "    @argcheck length(τmax) == length(models) == length(costs)\n",
    "    @argcheck 0 <= discount < 1\n",
    "    P = length(models)\n",
    "    actions = action_space(P)\n",
    "    nstates = map(m -> size(m, 1), models)\n",
    "    states = state_space(τmax, nstates)\n",
    "    MonitoringMDP{2P,P}(τmax, models, costs, discount, actions, states)\n",
    "end"
   ]
  },
  {
   "cell_type": "code",
   "execution_count": null,
   "metadata": {},
   "outputs": [],
   "source": [
    "actionindex(mdp::MonitoringMDP, a::Action) = LinearIndices(mdp.actions)[a]\n",
    "stateindex(mdp::MonitoringMDP, s::State) = LinearIndices(mdp.states)[s]"
   ]
  },
  {
   "cell_type": "code",
   "execution_count": null,
   "metadata": {},
   "outputs": [],
   "source": [
    "actions(mdp::MonitoringMDP) = mdp.actions\n",
    "states(mdp::MonitoringMDP) = mdp.states\n",
    "discount(mdp::MonitoringMDP) = mdp.discount\n",
    "# actionindex(mdp::MonitoringMDP, a::Action) = index(mdp.actions, a)\n",
    "# stateindex(mdp::MonitoringMDP, s::State) = index(mdp.states, s)"
   ]
  },
  {
   "cell_type": "markdown",
   "metadata": {},
   "source": [
    "### Transitions"
   ]
  },
  {
   "cell_type": "code",
   "execution_count": null,
   "metadata": {},
   "outputs": [],
   "source": [
    "function transition(τmax::Int, model::HMM, b, a)\n",
    "    timesteps, laststate = b\n",
    "    @argcheck timesteps <= τmax\n",
    "    if a\n",
    "        # Measure\n",
    "        probas = (model.A^(timesteps + 1))[laststate,:]\n",
    "        states = map(i -> (0, i), 1:length(probas))\n",
    "        return probas, states\n",
    "    else\n",
    "        # Don't measure\n",
    "        if timesteps == τmax\n",
    "            return [1.0], [(timesteps, laststate)]\n",
    "        else\n",
    "            return [1.0], [(timesteps + 1, laststate)]\n",
    "        end\n",
    "    end\n",
    "end"
   ]
  },
  {
   "cell_type": "code",
   "execution_count": null,
   "metadata": {},
   "outputs": [],
   "source": [
    "# Possible transitions from state s and action a\n",
    "function transition(mdp::MonitoringMDP, s::State, a::Action)\n",
    "    probas = []\n",
    "    states = []\n",
    "    \n",
    "    s = getstate(s)\n",
    "    a = getaction(a)\n",
    "\n",
    "    for (τmax, model, belief, action) in zip(mdp.τmax, mdp.models, s, a)\n",
    "        probas_, states_ = transition(τmax, model, belief, action)\n",
    "        push!(probas, probas_)\n",
    "        push!(states, states_)\n",
    "    end\n",
    "\n",
    "    probas = splatmap(*, vproduct(probas...))\n",
    "    states = map(CartesianIndex, splatmap(tuplejoin, vproduct(states...)))\n",
    "\n",
    "    SparseCat(states, probas)\n",
    "end"
   ]
  },
  {
   "cell_type": "markdown",
   "metadata": {},
   "source": [
    "### Rewards"
   ]
  },
  {
   "cell_type": "code",
   "execution_count": null,
   "metadata": {},
   "outputs": [],
   "source": [
    "function reward(mdp::MonitoringMDP, ::State, a::Action, sp::State)\n",
    "    cost = dot(mdp.costs, Tuple(a))\n",
    "\n",
    "    sp = getstate(sp)\n",
    "    \n",
    "    delay = minimum(zip(mdp.models, sp)) do (model, belief)\n",
    "        timesteps, laststate = belief\n",
    "        probas = (model.A^timesteps)[laststate,:]\n",
    "        sum(i -> mean(model.B[i]) * probas[i], 1:length(probas))\n",
    "    end\n",
    "\n",
    "    return -cost-delay\n",
    "end"
   ]
  },
  {
   "cell_type": "code",
   "execution_count": null,
   "metadata": {},
   "outputs": [],
   "source": [
    "# TODO: Tests"
   ]
  },
  {
   "cell_type": "markdown",
   "metadata": {},
   "source": [
    "## Simulation"
   ]
  },
  {
   "cell_type": "code",
   "execution_count": null,
   "metadata": {},
   "outputs": [],
   "source": [
    "using Distributions\n",
    "using DiscreteValueIteration\n",
    "using POMDPModelTools\n",
    "using PyPlot"
   ]
  },
  {
   "cell_type": "markdown",
   "metadata": {},
   "source": [
    "### JONS paper\n",
    "#### 8.1 A first simple example"
   ]
  },
  {
   "cell_type": "code",
   "execution_count": null,
   "metadata": {},
   "outputs": [],
   "source": [
    "# TODO: Use DiscreteNonParametric instead of 0-variance Normal distn.\n",
    "p1 = HMM(ones(1,1), [Normal(8,0)])\n",
    "p2 = HMM([0.99 0.01; 0.02 0.98], [Normal(5,0), Normal(10,0)])\n",
    "mdp = MonitoringMDP([300, 300], [p1, p2], [0.65, 0.65], 0.01);"
   ]
  },
  {
   "cell_type": "code",
   "execution_count": null,
   "metadata": {},
   "outputs": [],
   "source": [
    "smdp = SparseTabularMDP(mdp);"
   ]
  },
  {
   "cell_type": "code",
   "execution_count": null,
   "metadata": {},
   "outputs": [],
   "source": [
    "solver = SparseValueIterationSolver(max_iterations=100, belres=1e-6, verbose=true)\n",
    "res = solve(solver, smdp);"
   ]
  },
  {
   "cell_type": "code",
   "execution_count": null,
   "metadata": {},
   "outputs": [],
   "source": [
    "x, y = [], []\n",
    "for (i, action) in enumerate(res.policy)\n",
    "    action = getaction(actions(mdp)[action])\n",
    "    timesteps, laststate = getstate(states(mdp)[i])[2]\n",
    "    push!(x, (p2.A^timesteps)[laststate,1])\n",
    "    push!(y, action[2])\n",
    "end\n",
    "scatter(x, y)"
   ]
  },
  {
   "cell_type": "code",
   "execution_count": null,
   "metadata": {},
   "outputs": [],
   "source": []
  },
  {
   "cell_type": "code",
   "execution_count": null,
   "metadata": {},
   "outputs": [],
   "source": [
    "x, y = [], []\n",
    "for (i, action) in enumerate(res.policy)\n",
    "    action = getaction(actions(mdp)[action])\n",
    "    timesteps, laststate = getstate(states(mdp)[i])[2]\n",
    "    push!(x, (p2.A^timesteps)[laststate,1])\n",
    "    push!(y, action[2])\n",
    "end\n",
    "scatter(x, y)"
   ]
  },
  {
   "cell_type": "markdown",
   "metadata": {},
   "source": [
    "#### 8.2 Two Markov chains of two states each"
   ]
  },
  {
   "cell_type": "code",
   "execution_count": null,
   "metadata": {},
   "outputs": [],
   "source": [
    "# TODO: Use DiscreteNonParametric instead of 0-variance Normal distn.\n",
    "p1 = HMM([0.7 0.3; 0.3 0.7], [Normal(0.5, 0), Normal(2.0, 0)])\n",
    "p2 = HMM([0.9 0.1; 0.1 0.9], [Normal(1.0,0), Normal(3.0,0)])\n",
    "mdp = MonitoringMDP([100, 100], [p1, p2], [0.05, 0.15], 0.01);"
   ]
  },
  {
   "cell_type": "code",
   "execution_count": null,
   "metadata": {},
   "outputs": [],
   "source": [
    "smdp = SparseTabularMDP(mdp);"
   ]
  },
  {
   "cell_type": "code",
   "execution_count": null,
   "metadata": {},
   "outputs": [],
   "source": [
    "solver = SparseValueIterationSolver(max_iterations=100, belres=1e-6, verbose=true)\n",
    "res = solve(solver, smdp);"
   ]
  },
  {
   "cell_type": "code",
   "execution_count": null,
   "metadata": {},
   "outputs": [],
   "source": [
    "x, y, z = [], [], []\n",
    "for (i, action) in enumerate(res.policy)\n",
    "    state = getstate(states(mdp)[i])\n",
    "    timesteps, laststate = state[1]\n",
    "    push!(x, (p1.A^(timesteps+1))[laststate,1])\n",
    "    timesteps, laststate = state[2]\n",
    "    push!(y, (p2.A^(timesteps+1))[laststate,1])\n",
    "    push!(z, action)\n",
    "end\n",
    "# scatter(x, y)"
   ]
  },
  {
   "cell_type": "code",
   "execution_count": null,
   "metadata": {},
   "outputs": [],
   "source": [
    "scatter(x, y, c=z)\n",
    "xlim(0,1)\n",
    "ylim(0,1)"
   ]
  },
  {
   "cell_type": "code",
   "execution_count": null,
   "metadata": {},
   "outputs": [],
   "source": []
  },
  {
   "cell_type": "markdown",
   "metadata": {},
   "source": [
    "TODO: Implement https://juliapomdp.github.io/POMDPModelTools.jl/latest/visualization.html"
   ]
  },
  {
   "cell_type": "code",
   "execution_count": null,
   "metadata": {},
   "outputs": [],
   "source": []
  },
  {
   "cell_type": "markdown",
   "metadata": {},
   "source": [
    "## Simulation"
   ]
  },
  {
   "cell_type": "markdown",
   "metadata": {},
   "source": [
    "https://juliapomdp.github.io/POMDPSimulators.jl/stable/parallel/#Parallel-1"
   ]
  },
  {
   "cell_type": "code",
   "execution_count": null,
   "metadata": {},
   "outputs": [],
   "source": []
  },
  {
   "cell_type": "code",
   "execution_count": null,
   "metadata": {},
   "outputs": [],
   "source": []
  }
 ],
 "metadata": {
  "kernelspec": {
   "display_name": "Julia 1.4.0",
   "language": "julia",
   "name": "julia-1.4"
  },
  "language_info": {
   "file_extension": ".jl",
   "mimetype": "application/julia",
   "name": "julia",
   "version": "1.4.0"
  }
 },
 "nbformat": 4,
 "nbformat_minor": 4
}
